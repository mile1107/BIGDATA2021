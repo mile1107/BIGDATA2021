{
  "cells": [
    {
      "cell_type": "markdown",
      "metadata": {},
      "source": [
        "# Actividad 03: Reglas de Asociación\n",
        "> Estudiante: Mileydy Ninantay Diaz\n",
        "\n",
        "> Código: 171915\n",
        "\n",
        "---"
      ]
    },
    {
      "cell_type": "markdown",
      "metadata": {
        "id": "8sLOdo9iNF9P"
      },
      "source": [
        "## 1.- Instalar bibliotecas"
      ]
    },
    {
      "cell_type": "code",
      "execution_count": 12,
      "metadata": {
        "id": "veerhbbgEAI_"
      },
      "outputs": [],
      "source": [
        "import numpy as np  \n",
        "import pandas as pd  \n",
        "import itertools\n",
        "\n",
        "# Otras librerías (para leer archivos con urls)\n",
        "import requests\n",
        "import io"
      ]
    },
    {
      "cell_type": "code",
      "execution_count": 13,
      "metadata": {},
      "outputs": [
        {
          "name": "stderr",
          "output_type": "stream",
          "text": [
            "C:\\Users\\USER\\AppData\\Local\\Temp/ipykernel_10188/559992906.py:2: FutureWarning: Passing a negative integer is deprecated in version 1.0 and will not be supported in future version. Instead, use None to not limit the column width.\n",
            "  pd.set_option('display.max_colwidth', -1)\n"
          ]
        }
      ],
      "source": [
        "#--configuración para mostrar el contenido completo de un dataframe\n",
        "pd.set_option('display.max_colwidth', -1) "
      ]
    },
    {
      "cell_type": "markdown",
      "metadata": {
        "id": "k13nmZ3Yz9_h"
      },
      "source": [
        "## 2.- Funciones"
      ]
    },
    {
      "cell_type": "markdown",
      "metadata": {
        "id": "fmmcEHWm0RWv"
      },
      "source": [
        "### 2.1.- Funciones secundarias"
      ]
    },
    {
      "cell_type": "markdown",
      "metadata": {
        "id": "wWYzCJovLZAS"
      },
      "source": [
        "**Función `mezclar_k_itemsets` :**\n",
        "- INPUT: recibe un **diccionario** que contiene los **itemsets** y sus respectivos soportes **(support)**.\n",
        "- OUTPUT: devuelve una **lista** de **itemsets**.\n",
        "- Ésta función genera nuevos k-itemsets a partir de la combinación de k-1 itemsets."
      ]
    },
    {
      "cell_type": "code",
      "execution_count": 14,
      "metadata": {
        "id": "P7fNNXcDqy9G"
      },
      "outputs": [],
      "source": [
        "def mezclar_k_itemsets(dicc):\n",
        "  itemsets = [] #--lista para almacenar los itemsets generados\n",
        "  keys = list(dicc.keys()) #--en la variable keys se almacena los itemsets del diccionario ingresado\n",
        "  for i in range(len(keys)): #--recorre posiciones de la lista keys\n",
        "    for j in range((i+1),len(keys)): #--recorre posiciones de la lista keys, a patir de la posición i+1\n",
        "      if(len(keys[i]) == 1): #--para mezclar pares de 1-itemsets\n",
        "          tupla = tuple(sorted((keys[i][0],keys[j][0]))) #--une dos 1-itemsets\n",
        "          if(tupla not in itemsets):\n",
        "            itemsets.append(tupla) #--si la tupla generada no esta en la lista itemsets, se agrega\n",
        "      else: #--para mezclar pares de k-itemsets\n",
        "        tupla_1 = tuple(sorted(keys[i])) #--se ordena la tupla lexicográficamente\n",
        "        tupla_2 = tuple(sorted(keys[j])) #--se ordena la tupla lexicográficamente\n",
        "        if (tupla_1 != tupla_2 and tupla_1[:len(tupla_1)-1] == tupla_2[:len(tupla_2)-1]):\n",
        "          tupla = tuple(sorted(tupla_1 + (tupla_2[len(tupla_2)-1],))) #--si dos tuplas difieren solo en su último elemento, se mezcla ambas duplas\n",
        "          if(tupla not in itemsets):\n",
        "            itemsets.append(tupla) #--si la tupla generada no esta en la lista itemsets, se agrega\n",
        "  return itemsets"
      ]
    },
    {
      "cell_type": "markdown",
      "metadata": {
        "id": "gODHjJy30e2Z"
      },
      "source": [
        "### 2.2.- Funciones principales"
      ]
    },
    {
      "cell_type": "markdown",
      "metadata": {
        "id": "aOhGclwWLZAU"
      },
      "source": [
        "**Función `get_frequent_itemsets` :**\n",
        "- INPUT: recibe una **base de datos** en lista de listas que contiene las playlists, y el valor del soporte mínimo **(minsup)**.\n",
        "- OUTPUT: devuelve un **diccionario** de los **itemsets frecuentes** y sus respectivos soportes **(support)**.\n",
        "- Ésta función genera los **itemsets frecuentes** a partir de la base de  datos asignada, en este caso el conjunto de playlists. Además que cumplan que su soprte del itemset frecuentes sea mayor o igual que el soporte mínimo (minsup)."
      ]
    },
    {
      "cell_type": "code",
      "execution_count": 15,
      "metadata": {
        "id": "yA-Ci56z0hjl"
      },
      "outputs": [],
      "source": [
        "def get_frequent_itemsets(playlists, min_support):\n",
        "  cant_playlists = len(playlists) #--en la variable se almacena la cantidad de filas de la base de datos\n",
        "  '''Calcula el support de los 1-itemsets, luego filtra los 1-itemsets según el criterio minsup'''\n",
        "  dic_support = {} #--se crea el diccionario para almacenar los 1-itemsets frecuentes con su support  \n",
        "  data_extend = list(itertools.chain(*playlists)) #--convierte en una sola lista todas la claves del playlists\n",
        "  for playlist in playlists: #--recorre cada fila de la base de datos (playlist)\n",
        "    for song in playlist: #--recorre cada canción de la playlist\n",
        "      if(song not in dic_support.keys()): \n",
        "        support = data_extend.count(song)/cant_playlists #--en caso que la canción aún no este en el diccionario se halla su support\n",
        "        if(support >= min_support):\n",
        "          dic_support[(song,)] = support #--si se cumple el criterio de minsup se agrega la cancion y su support\n",
        "  dic_support = dict(sorted(dic_support.items())) #--ordena el diccionario lexicográficamente\n",
        "  print(' -> Cantidad de 1-itemsets frecuentes: ', len(dic_support))\n",
        "  \n",
        "  '''Se crea los k-itemsets y se calcula sus supports, luego filtra los 1-itemsets según el criterio minsup'''\n",
        "  itemsets = mezclar_k_itemsets(dic_support) #--a partir de los 1-itemsets frecuentes se genera los nuevos 2-itemsets \n",
        "  Dic_itemsets_freq = {} #--diccionario en el que se almacenarán los itemsets frecuentes y sus respectivos soportes\n",
        "  cnt = 2 #--contador\n",
        "  while(itemsets != []): #--se está en un bucle mientras se pueda generar todos los itemsets frecuentes\n",
        "    dic_support.clear() #--se elimina todos los elementos del diccionario dic_support\n",
        "    for itemset in itemsets: #--recorre cada tupla que hay en k_itemsets\n",
        "      freq = 0 #--frecuencia inicializada en 0\n",
        "      for playlist in playlists: #--recorre cada fila de la base de datos (playlist)\n",
        "        if(set(itemset).issubset(set(playlist)) == True):\n",
        "          freq += 1 #--si el itemset existe en un playlist de la base de datos, se va aumentando el valor de la frecuencia\n",
        "      if (freq != 0):\n",
        "        support = freq/cant_playlists #--si la frecuencia es diferente de 0, se halla el support\n",
        "        if(support >= min_support):\n",
        "          dic_support[itemset] = support #--si cumple con el criterio de minsup, se le halla su support de la tupla\n",
        "\n",
        "    print(' -> Cantidad de',cnt,'itemsets frecuentes: ', len(dic_support))\n",
        "    Dic_itemsets_freq.update(dic_support) #--se actualiza el diccionario que contiene los itemsets frecuentes       \n",
        "    cnt += 1 #--contador se aumenta en 1\n",
        "    itemsets = mezclar_k_itemsets(dic_support) #--a partir de los (k-1)-itemsets frecuentes se genera los nuevos k-itemsets\n",
        "    \n",
        "    if(itemsets == []):\n",
        "      print('... No hay mas k-itemsets frecuentes.')\n",
        "      break\n",
        "  print('Cantidad total de k-itemsets frecuentes (longitud 2 a más): ', len(Dic_itemsets_freq))\n",
        "  return Dic_itemsets_freq"
      ]
    },
    {
      "cell_type": "markdown",
      "metadata": {
        "id": "Csg5YbBzLZAV"
      },
      "source": [
        "**Función `generate_association_rules` :**\n",
        "- INPUT: recibe una **base de datos** en lista de listas que contiene las playlists, un diccionario de los **itemsets frecuentes** y sus soportes, los umbrales mínimos de confianza **(minconf)** e interés **(lift)**.\n",
        "- OUTPUT: devuelve un **diccionario** de las **reglas de asociacion** y sus respectivas **confianzas** y **lifts**.\n",
        "- Ésta función genera las **reglas de asociacion** a partir de los itemsets frecuentes, cumpliendo con los criterios de **(minconf)** e interés **(lift)**."
      ]
    },
    {
      "cell_type": "code",
      "execution_count": 16,
      "metadata": {
        "id": "PQEW8AjzLZAV"
      },
      "outputs": [],
      "source": [
        "def generate_association_rules(playlts, frequent_itemsets, confidence=0, lift=0):\n",
        "  Diccionario = frequent_itemsets.copy() #--se copia el diccionario frequent_itemsets en otro diicionario\n",
        "  Dic_Support = frequent_itemsets.copy() #--se copia el diccionario frequent_itemsets en el diicionario Dic_Support\n",
        "\n",
        "  for key, value in  Diccionario.items(): #--recorre cada itesemt y su respectivo support\n",
        "    Diccionario[key] = value*len(playlts) #--asigna al itemset su frecuencia (resulta de multiplicar su support con la cantidad de playlists de la BD)\n",
        "\n",
        "  reglas = {} #--diccionario en el que se almacenarán las reglas de asociación\n",
        "  for itemset in frequent_itemsets: #--recorre cada itesemt del frequent_itemsets\n",
        "    item = tuple(sorted(itemset)) #--ordena lexicográficamente los elementos del itemset\n",
        "    subconj = [] #--lista para almacenar los subconjuntos de un itemset\n",
        "    for i in range(len(item)-1):\n",
        "      subconj += itertools.combinations(item, i+1)  #--genera los subconjuntos (2 a más) del itemset\n",
        "\n",
        "    reglas_x_item = [] #--almacena las posibles reglas generadas a parti de un itemset\n",
        "    cont = 1 #--contador\n",
        "    while (len(item) != cont): #--mientras el contador sea distinto al numero de subconjuntos del itemset\n",
        "      antec = list( filter(lambda i: len(i) == cont, subconj)) #--lista los posibles antecedentes de una determinada cantidad de elementos\n",
        "      conce = list( filter(lambda i: len(i) == len(item)-cont, subconj)) #--lista los posibles consecuentes de una determinada cantidad de elementos\n",
        "      for i in antec: #--recorre los posibles antecedentes que formen una regla\n",
        "        for j in conce: #--recorre los posibles consecuentes que formen una regla\n",
        "          if (([i,j] not in reglas_x_item) and (len(set(i).intersection(set(j))) == 0)):\n",
        "            #--si aun no existe la posible regla en reglas_x_item y si los elementos del antecedente y consecuente de la regla no se repiten, se agrega la regla\n",
        "            reglas_x_item.append([i,j]) \n",
        "      cont += 1 #--aumenta el contador en uno\n",
        "\n",
        "    for i in reglas_x_item: #--recorre cada regla almacenada en reglas_x_item\n",
        "      numerador = i[0] + i[1]\n",
        "      freq_num = 0 #--variable que almacena la frecuencia de la unión del antecedente y el consecuente de la regla\n",
        "      freq_den = 0 #--variable que almacena la frecuencia del antecedente de la regla\n",
        "      conf = 0 #--variable que almacena la confianza de una regla \n",
        "\n",
        "      '''halla la frecuencia del numerador (unión del antecedente y el consecuente de la regla)'''\n",
        "      if (tuple(sorted(numerador)) in Diccionario.keys()): #--si la unión del antecedente y el consecuente de la regla está en el Diccionario\n",
        "        freq_num = Diccionario.get(tuple(sorted(numerador))) #--devuelve la frecuencia de la unión del antecedente y el consecuente de la regla\n",
        "      \n",
        "      '''halla la frecuencia del denominador (antecedente de la regla)'''\n",
        "      if (tuple(sorted(i[0])) in Diccionario.keys()): #--si el antecedente de la regla está en el Diccionario\n",
        "        freq_den = (Diccionario.get(tuple(sorted(i[0])))) #--devuelve la frecuencia del antecedente de la regla\n",
        "      else: #--en caso que no este agregado en el Diccionario\n",
        "        for fila in playlts: #--recorre cada playlist de la BD\n",
        "          if all(j in fila for j in tuple(i[0])):\n",
        "            freq_den += 1 #--halla la frecuencia del antecedente de la regla\n",
        "        Diccionario[tuple(sorted(i[0]))] = freq_den #--agrega el antecedente de la regla, y su frecuencia\n",
        "        if(tuple(sorted(i[0])) in Dic_Support.keys()):\n",
        "          Dic_Support[tuple(i[0])] = freq_den/len(playlts) #--si no esta en el diccionario Dic_Support, se agrega con su support\n",
        "\n",
        "      if (freq_den == 0): #--si el valor es 0\n",
        "        conf = 0 #--al valor de la confianza se le asigna 0\n",
        "      else: #--caso contrario\n",
        "\n",
        "        conf = freq_num/freq_den #--la confianza se halla dividiendo la frecuencia del numerador entre la frecuencia del antecedente de la regla\n",
        "        #print('regla: ',i,conf)\n",
        "        if(conf >= confidence): #--en caso que la confianza de la regla sea mayor o igual que el umbral mínimo de confianza\n",
        "          #print('conf: ',i,conf)\n",
        "          supp_num = 0 #--variable que almacena el support de la unión del antecedente y el consecuente de la regla\n",
        "          supp_ant = 0 #--variable que almacena el support del antecedente de la regla\n",
        "          supp_cons = 0 #--variable que almacena el support del consecuente de la regla\n",
        "          lft = 0 #--variable que almacena el lift de la regla\n",
        "\n",
        "          '''halla el support del numerador (unión del antecedente y el consecuente de la regla)'''\n",
        "          if(tuple(sorted(numerador)) in Dic_Support.keys()): #--si la unión del antecedente y el consecuente de la regla está en el Dic_Support\n",
        "            supp_num = Dic_Support.get(tuple(sorted(numerador))) #--devuelve el support de la unión del antecedente y el consecuente de la regla\n",
        "\n",
        "          '''halla el support del antecedente de la regla'''\n",
        "          if(tuple(sorted(i[0])) in Dic_Support.keys()): #--si el antecedente de la regla está en el Dic_Support\n",
        "            supp_ant = Dic_Support.get(tuple(sorted(i[0]))) #--devuelve el support del antecedente de la regla\n",
        "          else: #--en caso que no este agregado en el Dic_Support\n",
        "            for fila in playlts: #--recorre cada playlist de la BD\n",
        "              if all(k in fila for k in tuple(i[0])):\n",
        "                supp_ant += 1 #--halla la frecuencia del antecedente de la regla\n",
        "            supp_ant = supp_ant/len(playlts) #--determina el support\n",
        "            Dic_Support[tuple(sorted(i[0]))] = supp_ant #--si no esta en el diccionario Dic_Support, se agrega con su support\n",
        "\n",
        "          '''halla el support del consecuente de la regla'''\n",
        "          if(tuple(sorted(i[1])) in Dic_Support.keys()): #--si el consecuente de la regla está en el Dic_Support\n",
        "            supp_cons = Dic_Support.get(tuple(sorted(i[1]))) #--devuelve el support del consecuente de la regla\n",
        "          else: #--en caso que no este agregado en el Dic_Support\n",
        "            for fila in playlts: #--recorre cada playlist de la BD\n",
        "              if all(k in fila for k in tuple(i[1])):\n",
        "                supp_cons += 1 #--halla la frecuencia del consecuente de la regla\n",
        "            supp_cons = supp_cons/len(playlts) #--determina el support\n",
        "            Dic_Support[tuple(sorted(i[1]))] = supp_cons #--si no esta en el diccionario Dic_Support, se agrega con su support\n",
        "\n",
        "          if (supp_ant == 0 or supp_cons == 0): #--si uno de los valores son 0\n",
        "            lft = 0 #--al valor del lift se le asigna 0\n",
        "          else: #--caso contrario\n",
        "            lft = supp_num/(supp_ant*supp_cons) #--el lift se halla dividiendo la frecuencia del numerador entre la frecuencia del antecedente de la regla multiplicado por el consecuente de la regla\n",
        "            if(lft >= lift): #--en caso que el lift de la regla sea mayor o igual que el criterio lift\n",
        "              reglas[tuple(i)] = [supp_num, conf, lft] #--se agrega la regla en el diccionario Reglas junto a su confianza y lift           \n",
        "  return reglas"
      ]
    },
    {
      "cell_type": "markdown",
      "metadata": {
        "id": "qj1yRQt2EAJZ"
      },
      "source": [
        "## 3.- Importar datos 🟠"
      ]
    },
    {
      "cell_type": "markdown",
      "metadata": {
        "id": "sD6JbldlOjk9"
      },
      "source": [
        "La **base de datos** a utilizar corresponde a **múltiples playlists** de la plataforma **spotify** creadas por usuarios de esta. Este es una muestra del dataset publicado para el Rec- Sys Challenge 2018."
      ]
    },
    {
      "cell_type": "code",
      "execution_count": 17,
      "metadata": {
        "id": "o5q0LSjRLZAY"
      },
      "outputs": [],
      "source": [
        "#--Dirección del archivo en github\n",
        "path = \"https://raw.githubusercontent.com/mile1107/BIGDATA2021/main/ACTIVIDAD03/spotify.npy\""
      ]
    },
    {
      "cell_type": "code",
      "execution_count": 18,
      "metadata": {
        "id": "yAhvnkTFLZAZ"
      },
      "outputs": [],
      "source": [
        "#--Obtiene el request de una url específica\n",
        "response = requests.get(path)\n",
        "response.raise_for_status()\n",
        "#--Se carga la base de datos\n",
        "data = np.load(io.BytesIO(response.content), allow_pickle=True)"
      ]
    },
    {
      "cell_type": "markdown",
      "metadata": {
        "id": "UBriTtEKEAJ-"
      },
      "source": [
        "## 4.- Preprocesamiento ⏮ "
      ]
    },
    {
      "cell_type": "markdown",
      "metadata": {
        "id": "B5imZUhfZx06"
      },
      "source": [
        "- **Convertir a lista de listas la base de datos**"
      ]
    },
    {
      "cell_type": "code",
      "execution_count": 19,
      "metadata": {
        "colab": {
          "base_uri": "https://localhost:8080/"
        },
        "id": "3Ov2-lW5LZAZ",
        "outputId": "c4fe1c23-56cb-473d-812b-5049721ac9e8"
      },
      "outputs": [
        {
          "name": "stderr",
          "output_type": "stream",
          "text": [
            "C:\\Users\\USER\\AppData\\Local\\Temp/ipykernel_10188/558034997.py:2: VisibleDeprecationWarning: Creating an ndarray from ragged nested sequences (which is a list-or-tuple of lists-or-tuples-or ndarrays with different lengths or shapes) is deprecated. If you meant to do this, you must specify 'dtype=object' when creating the ndarray\n",
            "  play_lists = np.array([i for i in data.item().values()])\n"
          ]
        }
      ],
      "source": [
        "#--La base de datos cargada se almacenará en lista de listas, en la que cada lista será un conjunto de canciones o un playlist\n",
        "play_lists = np.array([i for i in data.item().values()])"
      ]
    },
    {
      "cell_type": "markdown",
      "metadata": {
        "id": "40RtQW5_cgfi"
      },
      "source": [
        "## 5.- Visualizar base de datos "
      ]
    },
    {
      "cell_type": "markdown",
      "metadata": {
        "id": "wQe-cA5JZUcu"
      },
      "source": [
        "- **Cantidad de playlists de la base de datos**"
      ]
    },
    {
      "cell_type": "code",
      "execution_count": 20,
      "metadata": {
        "colab": {
          "base_uri": "https://localhost:8080/"
        },
        "id": "yX5hpWDCLZAZ",
        "outputId": "6328fff2-adb9-4ee1-e11d-45ebd8198789"
      },
      "outputs": [
        {
          "name": "stdout",
          "output_type": "stream",
          "text": [
            "10000\n"
          ]
        }
      ],
      "source": [
        "print(len(play_lists))"
      ]
    },
    {
      "cell_type": "markdown",
      "metadata": {
        "id": "csNKNcafYIcQ"
      },
      "source": [
        "- **Muestra los 5 primeros playlists de la base de datos**"
      ]
    },
    {
      "cell_type": "code",
      "execution_count": 21,
      "metadata": {
        "colab": {
          "base_uri": "https://localhost:8080/"
        },
        "id": "I522jEldWh99",
        "outputId": "cf70864e-c900-4b39-f28a-6758c9425055"
      },
      "outputs": [
        {
          "name": "stdout",
          "output_type": "stream",
          "text": [
            "1 : ['Lose Control (feat. Ciara & Fat Man Scoop)', 'Toxic', 'Crazy In Love', 'Rock Your Body', \"It Wasn't Me\", 'Yeah!', 'My Boo', 'Buttons', 'Say My Name', 'Hey Ya! - Radio Mix / Club Mix', 'Promiscuous', 'Right Where You Want Me - Radio Edit Version', 'Beautiful Soul', \"Leavin'\", 'Me & U', 'Ice Box', 'Sk8er Boi', 'Run It!', 'Check On It - feat. Bun B and Slim Thug', \"Jumpin', Jumpin'\", 'Soak Up The Sun', 'Where Is The Love?', \"Stacy's Mom\", 'Just The Girl', 'Yo (Excuse Me Miss)', 'Year 3000', 'Lip Gloss', 'Everytime We Touch - Radio Edit', 'Whatcha Say', 'Miss Independent', 'Party In The U.S.A.', 'The Great Escape', 'Replay', 'Forever', 'Your Love Is My Drug', 'Closer', 'One Less Lonely Girl', 'Paper Planes', 'Mr. Brightside', 'All The Small Things', 'Beep', 'Somebody To Love', 'Dirty Little Secret', 'Baby', 'A Thousand Miles', 'Livin on Sunday', 'See You Again', 'How Do You Sleep? - Featuring Ludacris', 'This Is Me', 'My Happy Ending', 'Check Yes Juliet', 'The Great Escape']\n",
            "\n",
            "2 : ['Fathoms Below - Broadway Cast Recording', 'Daughters Of Triton - Broadway Cast Recording', 'The World Above - Broadway Cast Recording', 'Human Stuff - Broadway Cast Recording', 'I Want the Good Times Back - Broadway Cast Recording', 'Part Of Your World', 'Storm at Sea - Broadway Cast Recording', 'Part Of Your World (Reprise) - Broadway Cast Recording', \"She's in Love - Broadway Cast Recording\", 'Her Voice - Broadway Cast Recording', 'The World Above (Reprise) - Broadway Cast Recording', 'Under the Sea - Broadway Cast Recording', 'Under the Sea (Reprise) - Broadway Cast Recording', 'Sweet Child - Broadway Cast Recording', 'Poor Unfortunate Souls - Broadway Cast Recording', 'Positoovity - Broadway Cast Recording', 'Beyond My Wildest Dreams - Broadway Cast Recording', 'One Step Closer - Broadway Cast Recording', 'I Want the Good Times Back (Reprise) - Broadway Cast Recording', 'Kiss the Girl - Broadway Cast Recording', 'Sweet Child (Reprise) - Broadway Cast Recording', 'If Only (Quartet) - Broadway Cast Recording', 'The Contest - Broadway Cast Recording', 'Poor Unfortunate Souls (Reprise) - Broadway Cast Recording', 'If Only (Reprise) - Broadway Cast Recording', 'Finale - Broadway Cast Recording', 'Kiss the Girl - From \"The Little Mermaid\"/Soundtrack Version', 'Poor Unfortunate Souls - From \"The Little Mermaid\" / Soundtrack Version', 'Part of Your World (Reprise) - From \"The Little Mermaid\"/ Soundtrack Version', 'Under the Sea - From \"The Little Mermaid\"/ Soundtrack Version', 'Part of Your World - From \"The Little Mermaid\"/ Soundtrack Version', 'Daughters of Triton - From \"The Little Mermaid\"/ Soundtrack Version', 'Kiss the Girl', 'Under the Sea - From \"The Little Mermaid\"/ Soundtrack Version', 'Part of Your World - From \"The Little Mermaid\"/ Soundtrack Version', 'Poor Unfortunate Souls - From \"The Little Mermaid\" / Soundtrack Version', 'Kiss the Girl - From \"The Little Mermaid\"/Soundtrack Version', 'Happy Ending - From \"The Little Mermaid\"/ Soundtrack Version', 'Main Title - The Little Mermaid - From \"The Little Mermaid\"/ Score', 'Overture - Broadway Cast Recording', 'Overture', 'Arabian Nights', 'One Jump Ahead', 'One Jump Ahead (Reprise)', 'Proud of Your Boy', 'These Palace Walls', 'Babkak, Omar, Aladdin, Kassim', 'A Million Miles Away', 'Diamond in the Rough', 'Friend Like Me', 'Act One Finale', 'Prince Ali', 'A Whole New World', 'High Adventure', \"Somebody's Got Your Back\", 'Proud of Your Boy (Reprise)', 'Prince Ali (Sultan Reprise)', 'Prince Ali (Jafar Reprise)', 'Finale Ultimo', 'Proud of Your Boy', 'Genie Medley', 'Two Worlds', \"You'll Be In My Heart\", 'Two Worlds Reprise', 'Two Worlds - Phil Version', \"You'll Be In My Heart\", 'Two Worlds Finale', 'Son Of Man', 'Prologue (The Enchantress)', 'Belle', 'No Matter What', 'No Matter What/Wolf Chase - Reprise', 'Me', 'Belle - Reprise', 'Home', 'Home - Reprise', 'Gaston', 'Gaston - Reprise', 'How Long Must This Go On?', 'Be Our Guest', \"If I Can't Love Her\", \"Entr'Acte/Wolf Chase\", 'Something There', 'Human Again', 'Maison Des Lunes', 'Beauty And The Beast', \"If I Can't Love Her - Reprise\", 'The Mob Song', 'The Battle', 'End Duet / Transformation', 'Beauty And The Beast (Reprise)', 'Prologue: Beauty And The Beast - Soundtrack', 'Belle', 'Belle Reprise - Soundtrack', 'Gaston - From \"Beauty and the Beast\" / Soundtrack Version', 'Gaston (Reprise)', 'Be Our Guest - From \"Beauty and the Beast\"/Soundtrack', 'Something There', 'The Mob Song - Soundtrack', 'Beauty and the Beast', 'To The Fair', 'West Wing', 'The Beast Lets Belle Go', 'Battle On The Tower', 'Transformation', 'Beauty and the Beast - Duet with Peabo Bryson from the Soundtrack \"Beauty and the Beast\"', 'Beauty and the Beast', 'Two Worlds', \"You'll Be In My Heart - Broadway Cast Recording\", 'Who Better Than Me - Broadway Cast Recording', 'No Other Way - Broadway Cast Recording', 'I Need to Know - Broadway Cast Recording', 'Son of Man - Broadway Cast Recording', 'Sure As Sun Turns to Moon - Broadway Cast Recording', 'Waiting For This Moment - Broadway Cast Recording', 'Different - Broadway Cast Recording', \"Trashin' The Camp - Broadway Cast Recording\", \"Like No Man I've Ever Seen - Broadway Cast Recording\", 'Strangers Like Me - Broadway Cast Recording', 'For The First Time - Broadway Cast Recording', 'Who Better Than Me? (Reprise) - Broadway Cast Recording', 'Everything That I Am - Broadway Cast Recording', \"You'll Be In My Heart (Reprise) - Broadway Cast Recording\", 'Sure As Sun Turns to Moon (Reprise) - Broadway Cast Recording', 'Two Worlds (Finale) - Broadway Cast Recording', 'Everything That I Am - Broadway Cast Recording', \"There's A Party Here In Agrabah, Part I\", \"There's A Party Here In Agrabah, Part II\", 'Welcome To The Forty Thieves', 'Out Of Thin Air', 'Are You In Or Out?', 'Father And Son', 'Arabian Nights Reprise', 'Forget About Love (The Return Of Jafar)', 'You\\'re Only Second Rate - From \"The Return of Jafar\" / Soundtrack Version', \"I'm Looking Out For Me (The Return Of Jafar)\", 'Wedding/Attack Of The Forty Thieves', 'The Oracle', 'Magic Carpet/Parting The Seas', 'Genie And Jasmine/Cassim Leaves', 'Alley Talk/Guards Chase Aladdin', 'Dark Mountain/The Challenge', 'Aladdin And Cassim Escape', 'The Hand Of Midas', 'End Credits (Aladdin And The King Of Thieves)', 'Arabian Nights', 'Legend Of The Lamp', 'One Jump Ahead', 'Street Urchins', 'One Jump Ahead (Reprise)', 'To Be Free', 'A Whole New World', \"Jafar's Hour\", 'Prince Ali (Reprise)', 'The Ends Of The Earth', 'The Kiss', 'On A Dark Night', 'Jasmine Runs Away', 'Marketplace', 'The Cave Of Wonders', \"Aladdin's World\", 'The Battle', 'Happy End In Agrabah', \"A Whole New World (Aladdin's Theme)\", 'Long Ago...', 'The Gospel Truth I / Main Titles - Hercules', 'The Gospel Truth II', 'The Gospel Truth III', 'Go the Distance - From \"Hercules\"/Soundtrack', 'Zeus Todopoderoso', 'Go the Distance (Reprise)', 'One Last Hope', 'Zero To Hero', \"I Won't Say (I'm in Love)\", 'A Star Is Born', 'Go the Distance', 'La Gran Aceituna', 'La Profecia', 'Destrucción Del Agora', 'La Isla De Fil', 'Rodeo', 'Hablando Del Rey De Tebas', 'The Batalla Con La Hidra', 'El Jardín De Meg', 'La Villa De Hércules', 'El Más Mentecato', 'Cortando La Hebra', 'A True Hero / A Star Is Born', 'An Unusual Prince/Once Upon A Dream - From \"Sleeping Beauty\"/Soundtrack Version']\n",
            "\n",
            "3 : ['ABC', 'Point/Counterpoint', 'Billie Jean', 'Basket Case', 'Seven Nation Army', '1985', 'Rollup - Baauer Remix', 'Dirt Off Your Shoulder', 'So Ruff, So Tuff', 'Snow (Hey Oh) - Hey Oh Album Version', 'Werewolves Of London - 2007 Remastered Version', 'Two Princes', 'Jailhouse', 'Black Betty', \"Moar Ghosts 'n' Stuff\", 'Acid Raindrops', 'Guns Are Drawn', 'Disco Inferno', 'Ignition - Remix', \"Life's Been Good\", 'Black River Killer', 'Amazing', 'Young Americans - 2016 Remastered Version', 'Fame - 2016 Remastered Version', 'How We Do - Radio Edit', 'Never Say Goodbye - Radio Edit', 'Peace Frog', 'Animals - Extended', 'Fitzpleasure', 'Officer', 'The Message', 'Hey Brother', 'Hypnotize - 2014 Remastered Version', 'Big Poppa', 'Juicy', 'My Band', 'The Next Episode', \"Jessie's Girl\", 'Feels Like the First Time - 2008 Remastered Version', 'Hot Blooded', 'Cold As Ice - Single / LP Version', \"Don't Stop Believin'\", 'Somebody To Love - Remastered 2011', 'Bohemian Rhapsody - Remastered 2011', 'We Own the Night (feat. Luciana) [Original Mix]', 'Eyes On Fire - Zeds Dead Remix', 'Take Over Control - Radio Edit', 'Renegade', 'Sweet Emotion', 'Play That Funky Music', 'Gimme Shelter', 'Happy Violence', 'White Noise / Red Meat - Radio Edit', 'Feed The Dada', 'Kick Out The Epic Motherf**ker', \"Won't Get Fooled Again - Remix\", 'Free Bird', 'Foreplay / Long Time', 'More Than a Feeling', 'Pour Some Sugar On Me (2012)', 'Good Vibrations', 'Around The World / Harder Better Faster Stronger', 'My Name Is', 'Ass Like That', 'Without Me', 'I Wish', \"She's Got Me Dancing\", 'Me and Julio Down by the Schoolyard', 'Express Yourself', 'Give It Away', 'Ten Crack Commandments - 2014 Remastered Version', 'World Domination', 'Survival Tactics (feat. Capital Steez)', 'Every Other Freckle', 'You Sexy Thing', 'The W.A.N.D.', 'Gotta Get Away', 'Cocaine Blues', 'No Role Modelz', 'Left Hand Free - Lido Remix', 'Aeroplane', 'Kiss', 'Changes', 'Stronger', 'You & Me - Flume Remix', 'Hyperparadise - Flume Mixtape Version', 'Insane - L D R U Remix', 'New Lands', 'Sympathy For The Devil', 'Express Yourself', 'Get Down Tonight - 2004 Remastered Version', 'Rambo - Hardwell Edit', 'Hindsight', 'One Touch', 'Bap U', 'Turn up the Speakers - Original Mix', 'Okay', 'No Type', 'Hella Hoes', 'Party Up - GTA Remix', 'Paradise Awaits', 'Feel The Love - feat. John Newman [Fred V & Grafix Remix]', 'U Guessed It (Remix)', \"I'm Good\", 'The Light - Club Mix', \"We'll Be Ok\", 'Jaguar', 'HyperParadise - Flume Remix (Ganz Flip)', 'Feel The Volume', 'My Friends Never Die', 'In Time - Singularity Remix', 'Gecko (Overdrive) - Extended', 'Sun Models', 'Dumb Disco Ideas', 'Teenage Crime - Axwell & Henrik B Remode', 'Bend Ova', 'Symphonica - Original Mix', 'Recess (feat. Fatman Scoop and Michael Angelakos) - Milo And Otis Remix', 'Boy Oh Boy', 'Man Of The Year', \"We Won't Go Home - Jane Doze Remix\", 'High You Are', 'Bricks', 'Doses & Mimosas', 'Heads Will Roll - A-Trak Remix', 'Tuna Melt', 'Clash', 'Work REMIX', \"Can't You Hear Me Knocking - Remastered\", 'So Lonely - Remastered 2003', 'Roxanne - Remastered 2003', 'Pour Some Sugar on Me', 'Do It Again', 'White Lies', \"Every 1's A Winner\", 'Hoohah', \"I'm Doin' My Thang\", \"Ain't Nobody (Loves Me Better)\", \"While I Was Playin' Fair\", 'New Girl', 'Half Full Glass Of Wine', 'Runaway (U & I) - Kaskade Remix', 'Peanut Butter Jelly', 'Down The Road', 'Feed The Dada - 2015 Remix', 'Shine - Kygo Remix', 'Epsilon - Original Mix', 'Lean On (feat. MØ & DJ Snake)', 'Make You Mine (Radio Edit)', 'Kiss Kiss', 'Adore', 'Mirror Maru']\n",
            "\n",
            "4 : ['What Is Love 2016 - Mike Mago Remix', 'Love Me Now - Dave Audé Remix Radio Edit', 'Thinkin of U', 'I Will Be Here - (Wolfgang Gartner Remix)', 'The Party (This Is How We Do It)', \"I'll Take You - Solidisco Remix\", 'Show Me Love (Radio Edit)', 'Strike It Up', 'Hold Me Up - AM2PM Remix', 'Should’ve Been Us - DubVision Remix', \"Ain't No Mountain High Enough - Radio Edit\", 'Never Forget You (Future House Remix)', 'Closer - Wuki Remix', 'Down for U - Radio Mix', 'I Love You Always Forever', 'Better off That Way - Radio Mix']\n",
            "\n",
            "5 : ['Circles', 'Ramble Tamble', 'Brendan 1', \"Death of a Ladies' Man\", 'After Laughter (Comes Tears)', 'How You Doin, Here We Go', 'Please, Please, Please - Live At The Apollo Theater/1967', 'Wild Witch', 'Gut Feeling', 'Good Morning Judge', 'Black Water', 'Stumped', \"Nothin' In the World Can Stop Me Worryin' 'Bout That Girl\", 'Bluebirds Over The Mountain', 'Ghost to Me (Bonus Track)', 'Marea Baja', 'Little Town Flirt', 'Whiskeyclone, Hotel City 1997', 'Raspberry Cane', 'Betray', 'Egg Raid On Mojo - Demo', 'Egg Raid On Mojo', 'The Mingle', 'White Trash Heroes', 'Liquid Swords', 'Till We Meet Again', 'The Thing', 'Pleasure Point', 'Ebb Tide', 'Breakthrough', 'White Lies, Yellow Teeth', 'What Difference Does It Make? - John Peel session 5/18/83', 'Tundra/Desert', 'Holland, 1945', 'Best Night', 'The Bully', 'Levitate Me', 'One Way Out - Live At The Fillmore East/1971', \"Darlin'\", 'Road To Nowhere - 2005 Remastered Version', 'Road To Nowhere - 2005 Remastered Version', 'Sun Sinking Low', 'Chaos Engine', 'Planet of the Dreamers', 'Summertime', 'The Big Ship - 2004 Digital Remaster', 'Come and Get Your Love', 'Wintersong', \"You Don't Love Me\", 'Same Thing All Over', 'Hiroshima', 'Born to Lose', \"Death of a Ladies' Man\", 'Los Angeles', 'Children of the Grave - Remastered Version', 'Out On The Tiles', 'Filler', 'Merchandise - Demo', 'Time Of The Season (Mono Version)', 'Diarabi', 'Talk To God', 'Disco Fever', \"Oh! Sweet Nuthin' - 2015 Remastered\", 'Jean-Baptiste à la fenêtre', 'Drug Mugger', 'Staring at the Sun', 'Snakes And Martyrs', 'Back At The Farm', 'Everyone Who Pretended To Like Me Is Gone', 'Over And Done With']\n",
            "\n"
          ]
        }
      ],
      "source": [
        "for i in range(5):\n",
        "  print(i+1, ':', play_lists[i])\n",
        "  print('')"
      ]
    },
    {
      "cell_type": "markdown",
      "metadata": {
        "id": "7LP7XZsMaw_I"
      },
      "source": [
        "- **Muestra los 5 últimos playlists de la base de datos**"
      ]
    },
    {
      "cell_type": "code",
      "execution_count": 22,
      "metadata": {
        "colab": {
          "base_uri": "https://localhost:8080/"
        },
        "id": "aCjAKy8Ma36A",
        "outputId": "87eb22ba-5d97-4535-e59b-4f7e9af5e005"
      },
      "outputs": [
        {
          "name": "stdout",
          "output_type": "stream",
          "text": [
            "9996 : ['Scary Monsters And Nice Sprites', 'Bangarang (feat. Sirah)', 'Rap God', 'No Love', 'Blunt Blowin', 'Kings Never Die', 'Purple Lamborghini (with Rick Ross)', 'Wreak Havoc', 'For Those About to Rock (We Salute You)', 'Iron Man - Remastered Version', 'Wheel in the Sky', 'Separate Ways (Worlds Apart)', 'Wherever I May Roam', 'Headstrong', 'Paralyzer', 'In The End', 'Take Me Out', 'Requiem For A Tower', 'Edge of Seventeen - Remastered', 'Simple Man', 'Dust in the Wind', 'Paranoid - Remastered Version', \"Beggin'\", 'Beat It - Studio Version', 'All Of The Lights', 'Only Girl (In The World)', 'One', 'Sweet Dreams (Are Made of This) - Remastered', 'King For A Day', 'Hell Above', 'Bulls In The Bronx', 'Dive In', 'One Hundred Sleepless Nights', 'Stained Glass Eyes And Colorful Tears', 'Texas Is Forever', 'Mirror', \"When I'm Gone\", \"X Gon' Give It To Ya\", 'Radioactive', 'Faithfully', 'Bounce', 'The Way I Are', \"Ain't Talkin' 'Bout Love - 2015 Remastered Version\", 'Where Eagles Dare - 1998 Remastered Version', 'Batman the Animated Series (1996)', 'We Ride, Really!', \"You Want a Battle? (Here's a War)\", 'V', 'No Way Out', 'Army of Noise', 'Worthless', 'Broken', 'Venom', 'The Harder the Heart (The Harder It Breaks)', 'Skin', 'Hell or High Water', 'Pariah', 'Playing God', 'Run for Your Life', 'In Loving Memory - Demo Version', 'Raising Hell', 'Hero', 'No Easy Way Out', 'Umbrella', 'The Chain - Remastered', 'The Ecstasy of Gold (From \"The Good, the Bad and the Ugly\")', 'The Ecstasy Of Gold - Metallica Show Intro / Live At The Hollywood Palladium, Los Angeles, CA / March 10th, 1985', 'The Ecstasy Of Gold - 2016 Version', 'Intro', 'Blunt Blowin', 'MegaMan', '6 Foot 7 Foot', 'Nightmares Of The Bottom', 'She Will', 'How To Hate', 'Interlude', 'John', 'Abortion', 'So Special', 'How To Love', 'President Carter', \"It's Good\", 'Outro', 'I Like The View', 'Mirror', 'Two Shots', 'Mockingbird', 'Where Have You Been', \"Don't Stop The Music\", 'My Love', \"I Don't Care - Main\", 'As Long As You Love Me', '300 Violin Orchestra']\n",
            "\n",
            "9997 : ['Drift', 'To Binge (feat. Little Dragon)', 'It Is What It Is', 'Great White Shark', 'The Past Tense', 'Those Were the Days', 'Baby Blue', 'Fingerprints', 'Verona', 'Moonlight On The River', 'Kusanagi', 'Reflections After Jane', 'Night on Earth', 'Baby Jay', 'The Ballad of Keenan Milton', 'White Gloves', 'Moon Shoes', 'Kaputt', 'White Moon - iTunes Session Remix', 'I Do Not Care for the Winter Sun', 'La Lune', 'Drowsy', 'For The First Time', 'Bermondsey Bosom (Left)', 'Midnight 01 (Deep Sea Diver)', 'Sleep Apnea', 'Ocean Bed']\n",
            "\n",
            "9998 : ['The Light - Radio Edit', 'Scream My Name', 'Yesterday (feat.Bebe Rexha)', 'Uptown Funk', 'Ghost', 'Lips Are Movin', 'Trumpets', 'Sledgehammer', 'Outside', 'Dangerous (feat. Sam Martin)', 'Sugar', 'Sun Goes Down (feat. Jasmine Thompson) - Radio Mix', 'Operate', 'Chocolate', 'Rather Be (feat. Jess Glynne)', 'Dreaming - The Chainsmokers Remix', 'Black Widow', 'Goodness Gracious - The Chainsmokers Extended Remix', 'The Heart Wants What It Wants', \"I Can't Stop Drinking About You - Chainsmokers Remix\", 'Firestone', 'Blame', 'Stolen Dance', 'Time of Our Lives', 'Love Me Harder', \"I'm an Albatraoz\", 'Right Above It', 'Remember The Name (feat. Styles Of Beyond)', 'Yeah!', 'Live Your Life (feat. Rihanna)', 'Lose Yourself - Soundtrack Version', 'Ignition - Remix', 'Everytime We Touch - Radio Edit', 'Buttons', 'Toxic', 'SexyBack', 'TiK ToK', 'Somebody', 'Cool', 'I Really Like You']\n",
            "\n",
            "9999 : ['Addicted To A Memory', 'I Want You To Know', 'Spectrum', 'Clarity', 'Fall Into The Sky', 'Alive', 'Human', 'Bangarang (feat. Sirah)', 'Summit (feat. Ellie Goulding) - feat. Ellie Goulding', \"Reptile's Theme\", 'Internet Friends', 'Coloris', '2008', 'Finale', 'Cowgirl - Remastered', 'The City', 'Pay No Mind', 'Battleflag (feat. Pigeonhed)', 'Dynasty - Dada Life Remix', 'Clarity', 'Retro City', 'Thunderclap', 'Rise & Fall (feat. Krewella)', 'Limitless (feat. Delaney Jane)', 'Crash 2.0 (Adventure Club vs. DallasK)', 'Do I See Color']\n",
            "\n",
            "10000 : ['Backroad Song', 'Fix', 'Snapback', 'Make You Miss Me', 'Die A Happy Man', 'Beautiful Drug', 'Young And Wild', 'Wildfire', 'Sippin’ On Fire', 'T-Shirt', 'Dibs', 'Stay A Little Longer', 'Home Alone Tonight', \"Highway Don't Care\", 'Drunk On Your Love', \"You Can't Stop Me (feat. Thomas Rhett)\", 'Time Well Spent', 'Sunshine & Whiskey', 'My Church', 'Felt Good On My Lips', \"Night's On Fire\", 'I Like The Sound Of That', 'Helluva Life', 'Somewhere On A Beach', 'We Went', 'Hole In A Bottle', 'High Class', 'Wasted Time', 'Humble And Kind', 'Little Bit of You', 'Whisper', 'Bless The Broken Road', \"As She's Walking Away (feat. Alan Jackson)\", 'Something Like That', 'Vacation', '1972', 'I Feel Good', 'Church Bells', 'Head Over Boots', 'Peter Pan', \"It Don't Hurt Like It Used To\", 'Make You Mine', 'Compass', 'Tomorrow Never Comes', 'Homegrown', 'Sweet Annie', \"As She's Walking Away (feat. Alan Jackson)\", 'May We All', 'Take Me Home, Country Roads', 'Strip It Down', \"Blue Ain't Your Color\", \"Seein' Red\", 'Body Like A Back Road', 'Better Man', 'Are You Gonna Kiss Me Or Not']\n",
            "\n"
          ]
        }
      ],
      "source": [
        "for i in range(len(play_lists)-5,len(play_lists)):\n",
        "  print(i+1, ':', play_lists[i])\n",
        "  print('')"
      ]
    },
    {
      "cell_type": "markdown",
      "metadata": {
        "id": "pIM42vX2EAKX"
      },
      "source": [
        "## 6.- Ejecutar algoritmo y mostrar resultados ⏮ "
      ]
    },
    {
      "cell_type": "markdown",
      "metadata": {
        "id": "S2xkc1Ayd8M_"
      },
      "source": [
        "### **Generación de itemsets frecuentes**"
      ]
    },
    {
      "cell_type": "markdown",
      "metadata": {},
      "source": [
        "- Para la generación de itemsets frecuentes se escogió el valor de 0.015 para el minsup.\n",
        "- Se ecogió este valor porque al probar con valores mayores a 0.0215 (como 0.025, 0.03 y 0.04) no se encuentran itemsets frecuentes de longitud mayor a 1. Mientras que al probar con el valor de 0.02 se encontró 3 itemsets frecuentes, por lo que considere que eran muy pocos, y así opté por el valor de 0.015."
      ]
    },
    {
      "cell_type": "code",
      "execution_count": 23,
      "metadata": {
        "id": "uGKEAWitDZg7"
      },
      "outputs": [
        {
          "name": "stdout",
          "output_type": "stream",
          "text": [
            " -> Cantidad de 1-itemsets frecuentes:  371\n",
            " -> Cantidad de 2 itemsets frecuentes:  22\n",
            " -> Cantidad de 3 itemsets frecuentes:  0\n",
            "... No hay mas k-itemsets frecuentes.\n",
            "Cantidad total de k-itemsets frecuentes (longitud 2 a más):  22\n"
          ]
        }
      ],
      "source": [
        "itmsets_freq = get_frequent_itemsets(play_lists, 0.015)"
      ]
    },
    {
      "cell_type": "markdown",
      "metadata": {},
      "source": [
        "- **Muestra los itemsets frecuentes y su respectivo support**"
      ]
    },
    {
      "cell_type": "code",
      "execution_count": 27,
      "metadata": {},
      "outputs": [
        {
          "data": {
            "text/html": [
              "<div>\n",
              "<style scoped>\n",
              "    .dataframe tbody tr th:only-of-type {\n",
              "        vertical-align: middle;\n",
              "    }\n",
              "\n",
              "    .dataframe tbody tr th {\n",
              "        vertical-align: top;\n",
              "    }\n",
              "\n",
              "    .dataframe thead th {\n",
              "        text-align: right;\n",
              "    }\n",
              "</style>\n",
              "<table border=\"1\" class=\"dataframe\">\n",
              "  <thead>\n",
              "    <tr style=\"text-align: right;\">\n",
              "      <th></th>\n",
              "      <th>Itemset frecuente</th>\n",
              "      <th>Support</th>\n",
              "    </tr>\n",
              "  </thead>\n",
              "  <tbody>\n",
              "    <tr>\n",
              "      <th>0</th>\n",
              "      <td>Bad and Boujee (feat. Lil Uzi Vert) --&gt; Bounce Back</td>\n",
              "      <td>0.0169</td>\n",
              "    </tr>\n",
              "    <tr>\n",
              "      <th>1</th>\n",
              "      <td>Bad and Boujee (feat. Lil Uzi Vert) --&gt; Broccoli (feat. Lil Yachty)</td>\n",
              "      <td>0.0155</td>\n",
              "    </tr>\n",
              "    <tr>\n",
              "      <th>2</th>\n",
              "      <td>Bad and Boujee (feat. Lil Uzi Vert) --&gt; Caroline</td>\n",
              "      <td>0.0153</td>\n",
              "    </tr>\n",
              "    <tr>\n",
              "      <th>3</th>\n",
              "      <td>Bad and Boujee (feat. Lil Uzi Vert) --&gt; HUMBLE.</td>\n",
              "      <td>0.0167</td>\n",
              "    </tr>\n",
              "    <tr>\n",
              "      <th>4</th>\n",
              "      <td>Bad and Boujee (feat. Lil Uzi Vert) --&gt; Mask Off</td>\n",
              "      <td>0.0151</td>\n",
              "    </tr>\n",
              "    <tr>\n",
              "      <th>5</th>\n",
              "      <td>Bad and Boujee (feat. Lil Uzi Vert) --&gt; iSpy (feat. Lil Yachty)</td>\n",
              "      <td>0.0152</td>\n",
              "    </tr>\n",
              "    <tr>\n",
              "      <th>6</th>\n",
              "      <td>Bounce Back --&gt; HUMBLE.</td>\n",
              "      <td>0.0156</td>\n",
              "    </tr>\n",
              "    <tr>\n",
              "      <th>7</th>\n",
              "      <td>Broccoli (feat. Lil Yachty) --&gt; Caroline</td>\n",
              "      <td>0.0172</td>\n",
              "    </tr>\n",
              "    <tr>\n",
              "      <th>8</th>\n",
              "      <td>Broccoli (feat. Lil Yachty) --&gt; No Problem (feat. Lil Wayne &amp; 2 Chainz)</td>\n",
              "      <td>0.0158</td>\n",
              "    </tr>\n",
              "    <tr>\n",
              "      <th>9</th>\n",
              "      <td>Closer --&gt; Let Me Love You</td>\n",
              "      <td>0.0159</td>\n",
              "    </tr>\n",
              "    <tr>\n",
              "      <th>10</th>\n",
              "      <td>Congratulations --&gt; HUMBLE.</td>\n",
              "      <td>0.0214</td>\n",
              "    </tr>\n",
              "    <tr>\n",
              "      <th>11</th>\n",
              "      <td>Congratulations --&gt; Mask Off</td>\n",
              "      <td>0.0162</td>\n",
              "    </tr>\n",
              "    <tr>\n",
              "      <th>12</th>\n",
              "      <td>Congratulations --&gt; XO TOUR Llif3</td>\n",
              "      <td>0.0179</td>\n",
              "    </tr>\n",
              "    <tr>\n",
              "      <th>13</th>\n",
              "      <td>Congratulations --&gt; goosebumps</td>\n",
              "      <td>0.0155</td>\n",
              "    </tr>\n",
              "    <tr>\n",
              "      <th>14</th>\n",
              "      <td>Congratulations --&gt; iSpy (feat. Lil Yachty)</td>\n",
              "      <td>0.0162</td>\n",
              "    </tr>\n",
              "    <tr>\n",
              "      <th>15</th>\n",
              "      <td>DNA. --&gt; HUMBLE.</td>\n",
              "      <td>0.0190</td>\n",
              "    </tr>\n",
              "    <tr>\n",
              "      <th>16</th>\n",
              "      <td>HUMBLE. --&gt; Mask Off</td>\n",
              "      <td>0.0204</td>\n",
              "    </tr>\n",
              "    <tr>\n",
              "      <th>17</th>\n",
              "      <td>HUMBLE. --&gt; XO TOUR Llif3</td>\n",
              "      <td>0.0204</td>\n",
              "    </tr>\n",
              "    <tr>\n",
              "      <th>18</th>\n",
              "      <td>HUMBLE. --&gt; goosebumps</td>\n",
              "      <td>0.0167</td>\n",
              "    </tr>\n",
              "    <tr>\n",
              "      <th>19</th>\n",
              "      <td>HUMBLE. --&gt; iSpy (feat. Lil Yachty)</td>\n",
              "      <td>0.0155</td>\n",
              "    </tr>\n",
              "    <tr>\n",
              "      <th>20</th>\n",
              "      <td>Mask Off --&gt; XO TOUR Llif3</td>\n",
              "      <td>0.0163</td>\n",
              "    </tr>\n",
              "    <tr>\n",
              "      <th>21</th>\n",
              "      <td>XO TOUR Llif3 --&gt; goosebumps</td>\n",
              "      <td>0.0152</td>\n",
              "    </tr>\n",
              "  </tbody>\n",
              "</table>\n",
              "</div>"
            ],
            "text/plain": [
              "                                                          Itemset frecuente  \\\n",
              "0   Bad and Boujee (feat. Lil Uzi Vert) --> Bounce Back                       \n",
              "1   Bad and Boujee (feat. Lil Uzi Vert) --> Broccoli (feat. Lil Yachty)       \n",
              "2   Bad and Boujee (feat. Lil Uzi Vert) --> Caroline                          \n",
              "3   Bad and Boujee (feat. Lil Uzi Vert) --> HUMBLE.                           \n",
              "4   Bad and Boujee (feat. Lil Uzi Vert) --> Mask Off                          \n",
              "5   Bad and Boujee (feat. Lil Uzi Vert) --> iSpy (feat. Lil Yachty)           \n",
              "6   Bounce Back --> HUMBLE.                                                   \n",
              "7   Broccoli (feat. Lil Yachty) --> Caroline                                  \n",
              "8   Broccoli (feat. Lil Yachty) --> No Problem (feat. Lil Wayne & 2 Chainz)   \n",
              "9   Closer --> Let Me Love You                                                \n",
              "10  Congratulations --> HUMBLE.                                               \n",
              "11  Congratulations --> Mask Off                                              \n",
              "12  Congratulations --> XO TOUR Llif3                                         \n",
              "13  Congratulations --> goosebumps                                            \n",
              "14  Congratulations --> iSpy (feat. Lil Yachty)                               \n",
              "15  DNA. --> HUMBLE.                                                          \n",
              "16  HUMBLE. --> Mask Off                                                      \n",
              "17  HUMBLE. --> XO TOUR Llif3                                                 \n",
              "18  HUMBLE. --> goosebumps                                                    \n",
              "19  HUMBLE. --> iSpy (feat. Lil Yachty)                                       \n",
              "20  Mask Off --> XO TOUR Llif3                                                \n",
              "21  XO TOUR Llif3 --> goosebumps                                              \n",
              "\n",
              "    Support  \n",
              "0   0.0169   \n",
              "1   0.0155   \n",
              "2   0.0153   \n",
              "3   0.0167   \n",
              "4   0.0151   \n",
              "5   0.0152   \n",
              "6   0.0156   \n",
              "7   0.0172   \n",
              "8   0.0158   \n",
              "9   0.0159   \n",
              "10  0.0214   \n",
              "11  0.0162   \n",
              "12  0.0179   \n",
              "13  0.0155   \n",
              "14  0.0162   \n",
              "15  0.0190   \n",
              "16  0.0204   \n",
              "17  0.0204   \n",
              "18  0.0167   \n",
              "19  0.0155   \n",
              "20  0.0163   \n",
              "21  0.0152   "
            ]
          },
          "execution_count": 27,
          "metadata": {},
          "output_type": "execute_result"
        }
      ],
      "source": [
        "df_itemsets = pd.DataFrame([[str(key[0]+' --> '+key[1]),itmsets_freq[key]] for key in itmsets_freq.keys()], columns=['Itemset frecuente', 'Support'])\n",
        "df_itemsets"
      ]
    },
    {
      "cell_type": "markdown",
      "metadata": {
        "id": "CGWMYJdFd_lv"
      },
      "source": [
        "### **Generación de reglas de asociación**"
      ]
    },
    {
      "cell_type": "markdown",
      "metadata": {},
      "source": [
        "A partir de los **22 itemsets frecuentes** obtenidos, se generaron todas las posibles reglas y se escogió solo a aquellas reglas de asociación que sobrepasan o son iguales a una **confianza del 51%** y el valor predeterminado de **1.0 de lift**. Además estas reglas filtradas son **las mejores 10 reglas de asociación**."
      ]
    },
    {
      "cell_type": "code",
      "execution_count": 28,
      "metadata": {
        "id": "-WjWwNrKnAft"
      },
      "outputs": [],
      "source": [
        "reglas_asociacion = generate_association_rules(play_lists,itmsets_freq, 0.51, 1.0)"
      ]
    },
    {
      "cell_type": "markdown",
      "metadata": {},
      "source": [
        "- **Muestra las reglas de asociación y su respectivo support, confidence, lift**"
      ]
    },
    {
      "cell_type": "code",
      "execution_count": 30,
      "metadata": {},
      "outputs": [
        {
          "data": {
            "text/html": [
              "<div>\n",
              "<style scoped>\n",
              "    .dataframe tbody tr th:only-of-type {\n",
              "        vertical-align: middle;\n",
              "    }\n",
              "\n",
              "    .dataframe tbody tr th {\n",
              "        vertical-align: top;\n",
              "    }\n",
              "\n",
              "    .dataframe thead th {\n",
              "        text-align: right;\n",
              "    }\n",
              "</style>\n",
              "<table border=\"1\" class=\"dataframe\">\n",
              "  <thead>\n",
              "    <tr style=\"text-align: right;\">\n",
              "      <th></th>\n",
              "      <th>Reglas de asociación</th>\n",
              "      <th>Support</th>\n",
              "      <th>Confidence</th>\n",
              "      <th>Lift</th>\n",
              "    </tr>\n",
              "  </thead>\n",
              "  <tbody>\n",
              "    <tr>\n",
              "      <th>0</th>\n",
              "      <td>Bounce Back --&gt; Bad and Boujee (feat. Lil Uzi Vert)</td>\n",
              "      <td>0.0169</td>\n",
              "      <td>0.569024</td>\n",
              "      <td>16.493437</td>\n",
              "    </tr>\n",
              "    <tr>\n",
              "      <th>1</th>\n",
              "      <td>Bounce Back --&gt; HUMBLE.</td>\n",
              "      <td>0.0156</td>\n",
              "      <td>0.525253</td>\n",
              "      <td>11.295753</td>\n",
              "    </tr>\n",
              "    <tr>\n",
              "      <th>2</th>\n",
              "      <td>Congratulations --&gt; HUMBLE.</td>\n",
              "      <td>0.0214</td>\n",
              "      <td>0.531017</td>\n",
              "      <td>11.419728</td>\n",
              "    </tr>\n",
              "    <tr>\n",
              "      <th>3</th>\n",
              "      <td>Mask Off --&gt; Congratulations</td>\n",
              "      <td>0.0162</td>\n",
              "      <td>0.512658</td>\n",
              "      <td>12.721048</td>\n",
              "    </tr>\n",
              "    <tr>\n",
              "      <th>4</th>\n",
              "      <td>XO TOUR Llif3 --&gt; Congratulations</td>\n",
              "      <td>0.0179</td>\n",
              "      <td>0.554180</td>\n",
              "      <td>13.751354</td>\n",
              "    </tr>\n",
              "    <tr>\n",
              "      <th>5</th>\n",
              "      <td>DNA. --&gt; HUMBLE.</td>\n",
              "      <td>0.0190</td>\n",
              "      <td>0.822511</td>\n",
              "      <td>17.688405</td>\n",
              "    </tr>\n",
              "    <tr>\n",
              "      <th>6</th>\n",
              "      <td>Mask Off --&gt; HUMBLE.</td>\n",
              "      <td>0.0204</td>\n",
              "      <td>0.645570</td>\n",
              "      <td>13.883218</td>\n",
              "    </tr>\n",
              "    <tr>\n",
              "      <th>7</th>\n",
              "      <td>XO TOUR Llif3 --&gt; HUMBLE.</td>\n",
              "      <td>0.0204</td>\n",
              "      <td>0.631579</td>\n",
              "      <td>13.582343</td>\n",
              "    </tr>\n",
              "    <tr>\n",
              "      <th>8</th>\n",
              "      <td>goosebumps --&gt; HUMBLE.</td>\n",
              "      <td>0.0167</td>\n",
              "      <td>0.542208</td>\n",
              "      <td>11.660383</td>\n",
              "    </tr>\n",
              "    <tr>\n",
              "      <th>9</th>\n",
              "      <td>Mask Off --&gt; XO TOUR Llif3</td>\n",
              "      <td>0.0163</td>\n",
              "      <td>0.515823</td>\n",
              "      <td>15.969746</td>\n",
              "    </tr>\n",
              "  </tbody>\n",
              "</table>\n",
              "</div>"
            ],
            "text/plain": [
              "                                  Reglas de asociación  Support  Confidence  \\\n",
              "0  Bounce Back --> Bad and Boujee (feat. Lil Uzi Vert)  0.0169   0.569024     \n",
              "1  Bounce Back --> HUMBLE.                              0.0156   0.525253     \n",
              "2  Congratulations --> HUMBLE.                          0.0214   0.531017     \n",
              "3  Mask Off --> Congratulations                         0.0162   0.512658     \n",
              "4  XO TOUR Llif3 --> Congratulations                    0.0179   0.554180     \n",
              "5  DNA. --> HUMBLE.                                     0.0190   0.822511     \n",
              "6  Mask Off --> HUMBLE.                                 0.0204   0.645570     \n",
              "7  XO TOUR Llif3 --> HUMBLE.                            0.0204   0.631579     \n",
              "8  goosebumps --> HUMBLE.                               0.0167   0.542208     \n",
              "9  Mask Off --> XO TOUR Llif3                           0.0163   0.515823     \n",
              "\n",
              "        Lift  \n",
              "0  16.493437  \n",
              "1  11.295753  \n",
              "2  11.419728  \n",
              "3  12.721048  \n",
              "4  13.751354  \n",
              "5  17.688405  \n",
              "6  13.883218  \n",
              "7  13.582343  \n",
              "8  11.660383  \n",
              "9  15.969746  "
            ]
          },
          "execution_count": 30,
          "metadata": {},
          "output_type": "execute_result"
        }
      ],
      "source": [
        "#--Para una mejor visualización se convierte el diccionario a dataframe\n",
        "df = []\n",
        "for key in reglas_asociacion.keys():\n",
        "    if(len(key[0]) == 1):\n",
        "        if(len(key[1]) == 1):\n",
        "            df.append([str(key[0][0]+' --> '+key[1][0]), reglas_asociacion[key][0], reglas_asociacion[key][1], reglas_asociacion[key][2]])\n",
        "        else:\n",
        "            df.append([str(key[0][0]+' --> '+key[1]), reglas_asociacion[key][0], reglas_asociacion[key][1], reglas_asociacion[key][2]])\n",
        "    else:\n",
        "\n",
        "        if(len(key[1]) == 1):\n",
        "            df.append([str(key[0]+' --> '+key[1][0]), reglas_asociacion[key][0], reglas_asociacion[key][1], reglas_asociacion[key][2]])\n",
        "        else:\n",
        "            df.append([str(key[0]+' --> '+key[1]), reglas_asociacion[key][0], reglas_asociacion[key][1], reglas_asociacion[key][2]])\n",
        "\n",
        "df_reglas = pd.DataFrame(df, columns=['Reglas de asociación', 'Support', 'Confidence', 'Lift'])\n",
        "df_reglas"
      ]
    },
    {
      "cell_type": "markdown",
      "metadata": {
        "id": "AC62RiiAEAKn"
      },
      "source": [
        "## 7.- Resultado FINAL!!!   "
      ]
    },
    {
      "cell_type": "markdown",
      "metadata": {},
      "source": [
        "En base a la información anterior, elegiremos las siguientes 4 reglas de asociación:"
      ]
    },
    {
      "cell_type": "code",
      "execution_count": 31,
      "metadata": {},
      "outputs": [
        {
          "data": {
            "text/html": [
              "<div>\n",
              "<style scoped>\n",
              "    .dataframe tbody tr th:only-of-type {\n",
              "        vertical-align: middle;\n",
              "    }\n",
              "\n",
              "    .dataframe tbody tr th {\n",
              "        vertical-align: top;\n",
              "    }\n",
              "\n",
              "    .dataframe thead th {\n",
              "        text-align: right;\n",
              "    }\n",
              "</style>\n",
              "<table border=\"1\" class=\"dataframe\">\n",
              "  <thead>\n",
              "    <tr style=\"text-align: right;\">\n",
              "      <th></th>\n",
              "      <th>Reglas de asociación</th>\n",
              "      <th>Support</th>\n",
              "      <th>Confidence</th>\n",
              "      <th>Lift</th>\n",
              "    </tr>\n",
              "  </thead>\n",
              "  <tbody>\n",
              "    <tr>\n",
              "      <th>5</th>\n",
              "      <td>DNA. --&gt; HUMBLE.</td>\n",
              "      <td>0.0190</td>\n",
              "      <td>0.822511</td>\n",
              "      <td>17.688405</td>\n",
              "    </tr>\n",
              "    <tr>\n",
              "      <th>6</th>\n",
              "      <td>Mask Off --&gt; HUMBLE.</td>\n",
              "      <td>0.0204</td>\n",
              "      <td>0.645570</td>\n",
              "      <td>13.883218</td>\n",
              "    </tr>\n",
              "    <tr>\n",
              "      <th>7</th>\n",
              "      <td>XO TOUR Llif3 --&gt; HUMBLE.</td>\n",
              "      <td>0.0204</td>\n",
              "      <td>0.631579</td>\n",
              "      <td>13.582343</td>\n",
              "    </tr>\n",
              "    <tr>\n",
              "      <th>0</th>\n",
              "      <td>Bounce Back --&gt; Bad and Boujee (feat. Lil Uzi Vert)</td>\n",
              "      <td>0.0169</td>\n",
              "      <td>0.569024</td>\n",
              "      <td>16.493437</td>\n",
              "    </tr>\n",
              "  </tbody>\n",
              "</table>\n",
              "</div>"
            ],
            "text/plain": [
              "                                  Reglas de asociación  Support  Confidence  \\\n",
              "5  DNA. --> HUMBLE.                                     0.0190   0.822511     \n",
              "6  Mask Off --> HUMBLE.                                 0.0204   0.645570     \n",
              "7  XO TOUR Llif3 --> HUMBLE.                            0.0204   0.631579     \n",
              "0  Bounce Back --> Bad and Boujee (feat. Lil Uzi Vert)  0.0169   0.569024     \n",
              "\n",
              "        Lift  \n",
              "5  17.688405  \n",
              "6  13.883218  \n",
              "7  13.582343  \n",
              "0  16.493437  "
            ]
          },
          "execution_count": 31,
          "metadata": {},
          "output_type": "execute_result"
        }
      ],
      "source": [
        "df_4_reglas = df_reglas.sort_values('Confidence',ascending=False)\n",
        "df_4_reglas[0:4]"
      ]
    },
    {
      "cell_type": "markdown",
      "metadata": {},
      "source": [
        "- En la primera regla **'DNA. --> HUMBLE.'**, podemos ver que hay **190 playlists en la base de datos que contienen las dos canciones**. También podemos notar que mientras la canción 'DNA.' este en un playlist, hay un 82% de probabilidad de que el mismo playlist contenga la canción 'HUMBLE.', y además posee un lift de 17.69 que es un valor mayor a 1. \n",
        "**Información extra**: Las canciones 'DNA.' y 'HUMBLE.' pertenecen a un **mismo albúm de canciones llamado 'DAMN.'**, el cual es el cuarto álbum de estudio del **rapero estadounidense Kendrick Lamar**. Esto explica porque la **confianza es del 82%**, el **soporte de 0.019** y su **lift es el valor más alto de todas las reglas**."
      ]
    },
    {
      "cell_type": "markdown",
      "metadata": {},
      "source": [
        "- En la segunda regla **'Mask Off --> HUMBLE.'**, podemos ver que hay **240 playlists en la base de datos que contienen las dos canciones**. También podemos notar que mientras la canción 'Mask Off' este en un playlist, hay un 65% de probabilidad de que el mismo playlist contenga la canción 'HUMBLE.', y además posee un lift de 13.88 que es un valor mayor a 1. \n",
        "**Información extra**: La canción **'Mask Off'** es del **rapero Future**, el cual realizó un **remix** de la canción anteriormente mencionada, pero este remix se hizo con **colaboración** del **rapero Kendrick Lamar**, quién también canta la canción **'HUMBLE.'**. Esto explica porque la **confianza es del 65%** y hay 240 playlists que contienen ambas canciones."
      ]
    },
    {
      "cell_type": "markdown",
      "metadata": {},
      "source": [
        "- En la tercera regla **'XO TOUR Llif3 --> HUMBLE.'**, podemos ver que hay **240 playlists en la base de datos que contienen las dos canciones**. También podemos notar que mientras la canción 'XO TOUR Llif3' este en un playlist, hay un 63% de probabilidad de que el mismo playlist contenga la canción 'HUMBLE.', y además posee un lift de 13.58 que es un valor mayor a 1. \n",
        "**Información extra**: Las canciones **'XO TOUR Llif3'** y **'HUMBLE.'** estaba dentro del top 10 de las canciones más trasmitidas en el 2017, según el 'Top 10 of Everything 2019: The Ultimate Record Book of 2019'´, y ambas están en el 4 y 5 lugar respectivamente. Esto explica porque la **confianza es del 63%** y hay 240 playlists que contienen ambas canciones."
      ]
    },
    {
      "cell_type": "markdown",
      "metadata": {},
      "source": [
        "- En la cuarta regla **'Bounce Back --> Bad and Boujee (feat. Lil Uzi Vert)'**, podemos ver que hay **169 playlists en la base de datos que contienen las dos canciones**. También podemos notar que mientras la canción 'Bounce Back' este en un playlist, hay un 57% de probabilidad de que el mismo playlist contenga la canción 'Bad and Boujee (feat. Lil Uzi Vert)', y además posee un lift de 16.49 que es un valor mayor a 1. \n",
        "**Información extra**: La canción **'Bounce Back'** es del **rapero Big Sean**, y la canción **'Bad and Boujee (feat. Lil Uzi Vert)'** es de la **banda de trap Migos**, quién también canta la canción **'HUMBLE.'**, pero ambas canciones están dentro de un mashup (que significa la creación de una nueva canción a partir de la mezcla o pedazos de otras canciones) llamado **'Bad and Boujee x Bounce Back - Migos & Big Sean (Portada de William Singe)'**, este mashup la realizó William Singe, quién es un cantautor y compositor. Esto explica porque la **confianza es del 57%** y hay 169 playlists que contienen ambas canciones."
      ]
    },
    {
      "cell_type": "markdown",
      "metadata": {},
      "source": [
        "Se eligieron estas reglas ya que tenían un alto porcentaje de confianza y un alto soporte respecto a las otras reglas. Además, el lift de todas las reglas fue un número mayor a 1, lo que significa que hay más evidencias de que la regla no se debe a un artefacto aleatorio, es decir, mayor la evidencia de que la regla representa un patrón real."
      ]
    }
  ],
  "metadata": {
    "colab": {
      "collapsed_sections": [],
      "name": "Tarea_Mineria_Spotify.ipynb",
      "provenance": [],
      "toc_visible": true
    },
    "kernelspec": {
      "display_name": "Python 3",
      "language": "python",
      "name": "python3"
    },
    "language_info": {
      "codemirror_mode": {
        "name": "ipython",
        "version": 3
      },
      "file_extension": ".py",
      "mimetype": "text/x-python",
      "name": "python",
      "nbconvert_exporter": "python",
      "pygments_lexer": "ipython3",
      "version": "3.9.5"
    }
  },
  "nbformat": 4,
  "nbformat_minor": 0
}
