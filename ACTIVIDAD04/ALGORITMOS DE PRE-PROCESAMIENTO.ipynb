{
 "cells": [
  {
   "cell_type": "markdown",
   "id": "83809901",
   "metadata": {},
   "source": [
    "## 1. Estandarización"
   ]
  },
  {
   "cell_type": "code",
   "execution_count": 1,
   "id": "d8eaa03e",
   "metadata": {},
   "outputs": [],
   "source": [
    "def estandarizacion(x,media,desv):\n",
    "    \"\"\"Esta función estandariza el valor de un número en base al arreglo que pertenece.\n",
    "\n",
    "    Args:\n",
    "        x (int): Un valor escalar del arreglo.\n",
    "        media (float): Valor de la media aritmética de los valores del arreglo.\n",
    "        desv (float): Valor de la desviación estándar de los valores del arreglo\n",
    "\n",
    "    Returns:\n",
    "        float: Nuevo valor estandarizado.\n",
    "    \"\"\"\n",
    "    return round((x - media)/float(desv),3)"
   ]
  },
  {
   "cell_type": "code",
   "execution_count": 2,
   "id": "e1a47de7",
   "metadata": {},
   "outputs": [
    {
     "name": "stdout",
     "output_type": "stream",
     "text": [
      "[-1.293, -0.353, 0.588, -1.293, 0.118, 1.058, 1.529, 0.588, 0.118, 1.058, -1.764, -0.353]\n"
     ]
    }
   ],
   "source": [
    "# Creación de un RDD a partir de una arreglo\n",
    "numsRDD = sc.parallelize([3,5,7,3,6,8,9,7,6,8,2,5])\n",
    "# Obtención de la media del arreglo\n",
    "media = numsRDD.mean()\n",
    "# Desviación estándar del arreglo\n",
    "desv = (numsRDD.map(lambda x: (x - media)**2).mean())**(1/2)\n",
    "# Estandarizar todos los valores del arreglo\n",
    "numsEstandarizados = numsRDD.map(lambda x: estandarizacion(x, media, desv))\n",
    "# Mostrar los nuevos valores estandarizados\n",
    "print(numsEstandarizados.collect())"
   ]
  },
  {
   "cell_type": "markdown",
   "id": "c0058d3f",
   "metadata": {},
   "source": [
    "## 2. Escalonamiento Min-Max"
   ]
  },
  {
   "cell_type": "code",
   "execution_count": 3,
   "id": "eed503a4",
   "metadata": {},
   "outputs": [],
   "source": [
    "def escalonamiento(x,Min,Max):\n",
    "    \"\"\"Esta función aplica escalonamiento al valor de un número del arreglo.\n",
    "\n",
    "    Args:\n",
    "        x (int): Un valor escalar del arreglo.\n",
    "        Min (int): Valor mínimo del arreglo.\n",
    "        Max (int): Valor máximo del arreglo\n",
    "\n",
    "    Returns:\n",
    "        float: Nuevo valor escalonado (entre 0 y 1).\n",
    "    \"\"\"\n",
    "    return round((x - Min)/(Max - Min),3)"
   ]
  },
  {
   "cell_type": "code",
   "execution_count": 4,
   "id": "aaa7933e",
   "metadata": {},
   "outputs": [
    {
     "name": "stdout",
     "output_type": "stream",
     "text": [
      "[0.143, 0.429, 0.714, 0.143, 0.571, 0.857, 1.0, 0.714, 0.571, 0.857, 0.0, 0.429]\n"
     ]
    }
   ],
   "source": [
    "# Creación de un RDD a partir de una arreglo\n",
    "numsRDD = sc.parallelize([3,5,7,3,6,8,9,7,6,8,2,5])\n",
    "# Obtención del valor mínimo del arreglo\n",
    "minimo = numsRDD.min()\n",
    "# Obtención del valor máximo del arreglo\n",
    "maximo = numsRDD.max()\n",
    "# Escalar todos los valores del arreglo\n",
    "numsEscalados = numsRDD.map(lambda x: escalonamiento(x, minimo, maximo))\n",
    "# Mostrar los nuevos valores escalonados\n",
    "print(numsEscalados.collect())"
   ]
  },
  {
   "cell_type": "markdown",
   "id": "8ff1f3f6",
   "metadata": {},
   "source": [
    "## 3. Normalización"
   ]
  },
  {
   "cell_type": "code",
   "execution_count": 5,
   "id": "0512a282",
   "metadata": {},
   "outputs": [],
   "source": [
    "def normalizacion(x,N):\n",
    "    \"\"\"Esta función aplica normalización al valor de un número del arreglo.\n",
    "\n",
    "    Args:\n",
    "        x (int): Un valor escalar del arreglo.\n",
    "        N (float): Normal del arreglo.\n",
    "\n",
    "    Returns:\n",
    "        float: Nuevo valor normalizado.\n",
    "    \"\"\"\n",
    "    return round(x/N,3)"
   ]
  },
  {
   "cell_type": "code",
   "execution_count": 6,
   "id": "b7e41462",
   "metadata": {},
   "outputs": [
    {
     "name": "stdout",
     "output_type": "stream",
     "text": [
      "[0.141, 0.235, 0.33, 0.141, 0.283, 0.377, 0.424, 0.33, 0.283, 0.377, 0.094, 0.235]\n"
     ]
    }
   ],
   "source": [
    "import numpy as np\n",
    "from operator import add\n",
    "\n",
    "# Creación de un RDD a partir de una arreglo\n",
    "numsRDD = sc.parallelize([3,5,7,3,6,8,9,7,6,8,2,5])\n",
    "# Halla la normal de un vector\n",
    "normal = np.power((numsRDD.map(lambda x: np.power(x,2)).reduce(add)),1/2)\n",
    "# Normalizar todos los valores del arreglo\n",
    "numsNormalizados = numsRDD.map(lambda x: normalizacion(x, normal))\n",
    "# Mostrar los nuevos valores normalizados\n",
    "print(numsNormalizados.collect())"
   ]
  },
  {
   "cell_type": "markdown",
   "id": "b0e6bf77",
   "metadata": {},
   "source": [
    "## 4. Similitud de cosenos"
   ]
  },
  {
   "cell_type": "markdown",
   "id": "46d6c2a2",
   "metadata": {},
   "source": [
    "#### Fórmula obtenida de las diapositivas de ´Preprocesamiento de datos´"
   ]
  },
  {
   "cell_type": "code",
   "execution_count": 7,
   "id": "69a1977c",
   "metadata": {},
   "outputs": [],
   "source": [
    "def similitudCosenos(x,y):\n",
    "    \"\"\"Calcula la similitud de coseno de dos arreglos.\n",
    "\n",
    "    Args:\n",
    "        x (array): Primer arreglo.\n",
    "        y (array): Segundo arreglo\n",
    "\n",
    "    Returns:\n",
    "        float: Valor de la similitud de cosenos de 2 arreglos.\n",
    "    \"\"\"\n",
    "    # Forma un arreglo de tuplas con cada valor de ambos arreglos\n",
    "    tuplas = x.zip(y)\n",
    "    # Obtiene la sumatoria del producto de los pares\n",
    "    productoRDD = tuplas.map(lambda x: x[0]*x[1]).reduce(add)\n",
    "    # Obtiene la norma del arreglo x\n",
    "    normXRDD = tuplas.map(lambda x: np.power(x[0],2)).reduce(add)\n",
    "    # Obtiene la norma del arreglo y\n",
    "    normYRDD = tuplas.map(lambda x: np.power(x[1],2)).reduce(add)\n",
    "    # Retorna el valor de la similitud de coseno de los dos arreglos\n",
    "    return (productoRDD/(normXRDD*normYRDD))"
   ]
  },
  {
   "cell_type": "code",
   "execution_count": 8,
   "id": "9a8cfc07",
   "metadata": {},
   "outputs": [
    {
     "name": "stdout",
     "output_type": "stream",
     "text": [
      "Similitud de Cosenos: 0.075\n"
     ]
    }
   ],
   "source": [
    "# Creación de dos RDDs a partir de arreglos\n",
    "firstRDD = sc.parallelize([2, 0, 1, 1, 0, 2, 1, 1])\n",
    "secondRDD = sc.parallelize([2, 1, 1, 0, 1, 1, 1, 1])\n",
    "# Mostrar similitud de cosenos de dos arreglos\n",
    "print('Similitud de Cosenos:',similitudCosenos(firstRDD, secondRDD))"
   ]
  },
  {
   "cell_type": "markdown",
   "id": "b2a20807",
   "metadata": {},
   "source": [
    "#### Fórmula obtenida del internet"
   ]
  },
  {
   "cell_type": "code",
   "execution_count": 9,
   "id": "fa8d6f09",
   "metadata": {},
   "outputs": [],
   "source": [
    "def similitudCosenos(x,y):\n",
    "    \"\"\"Calcula la similitud de coseno de dos arreglos.\n",
    "\n",
    "    Args:\n",
    "        x (array): Primer arreglo.\n",
    "        y (array): Segundo arreglo\n",
    "\n",
    "    Returns:\n",
    "        float: Valor de la similitud de cosenos de 2 arreglos.\n",
    "    \"\"\"\n",
    "    # Forma un arreglo de tuplas con cada valor de ambos arreglos\n",
    "    tuplas = x.zip(y)\n",
    "    # Obtiene la sumatoria del producto de los pares\n",
    "    productoRDD = tuplas.map(lambda x: x[0]*x[1]).reduce(add)\n",
    "    # Obtiene la norma del arreglo x\n",
    "    normXRDD = tuplas.map(lambda x: np.power(x[0],2)).reduce(add)\n",
    "    # Obtiene la norma del arreglo y\n",
    "    normYRDD = tuplas.map(lambda x: np.power(x[1],2)).reduce(add)\n",
    "    # Retorna el valor de la similitud de coseno de los dos arreglos\n",
    "    return (productoRDD/(np.power(normXRDD,1/2)*np.power(normYRDD,1/2)))"
   ]
  },
  {
   "cell_type": "code",
   "execution_count": 10,
   "id": "ebd77f66",
   "metadata": {},
   "outputs": [
    {
     "name": "stdout",
     "output_type": "stream",
     "text": [
      "Similitud de Cosenos: 0.8215838362577491\n"
     ]
    }
   ],
   "source": [
    "# Creación de dos RDDs a partir de arreglos\n",
    "firstRDD = sc.parallelize([2, 0, 1, 1, 0, 2, 1, 1])\n",
    "secondRDD = sc.parallelize([2, 1, 1, 0, 1, 1, 1, 1])\n",
    "# Mostrar la similitud de cosenos de dos arreglos\n",
    "print('Similitud de Cosenos:',similitudCosenos(firstRDD, secondRDD))"
   ]
  },
  {
   "cell_type": "markdown",
   "id": "7699d75b",
   "metadata": {},
   "source": [
    "## 5. Distancia de Jaccard"
   ]
  },
  {
   "cell_type": "markdown",
   "id": "23191fd0",
   "metadata": {},
   "source": [
    "#### Para atributos binarios"
   ]
  },
  {
   "cell_type": "code",
   "execution_count": 11,
   "id": "e6346e4f",
   "metadata": {},
   "outputs": [],
   "source": [
    "def distanciaJaccard(x,y):\n",
    "    \"\"\"Calcula la distancia de Jaccard de dos arreglos de atributos binarios.\n",
    "\n",
    "    Args:\n",
    "        x (array): Primer arreglo.\n",
    "        y (array): Segundo arreglo\n",
    "\n",
    "    Returns:\n",
    "        float: Valor de la distancia de Jaccard de 2 arreglos.\n",
    "    \"\"\"\n",
    "    # Forma un arreglo de tuplas con cada valor de ambos arreglos\n",
    "    tuplas = x.zip(y)\n",
    "    # Obtiene la sumatoria del producto de los pares\n",
    "    productoRDD = tuplas.map(lambda x: x[0]*x[1]).reduce(add)\n",
    "    # Obtiene la sumatoria de la suma binaria de los arreglos\n",
    "    denRDD = tuplas.map(lambda x: min(1,x[0]+x[1])).reduce(add)\n",
    "    # Retorna el valor de la distancia de Jaccard de los dos arreglos\n",
    "    return (1 - productoRDD/denRDD)"
   ]
  },
  {
   "cell_type": "code",
   "execution_count": 12,
   "id": "77ab70ed",
   "metadata": {},
   "outputs": [
    {
     "name": "stdout",
     "output_type": "stream",
     "text": [
      "Distancia de Jaccard: 0.8\n"
     ]
    }
   ],
   "source": [
    "# Creación de dos RDDs a partir de arreglos\n",
    "firstRDD = sc.parallelize([1, 0, 1, 0, 0, 0, 0])\n",
    "secondRDD = sc.parallelize([1, 0, 0, 1, 0, 1, 1])\n",
    "# Mostrar la Distancia de Jaccard de dos arreglos\n",
    "print('Distancia de Jaccard:',distanciaJaccard(firstRDD, secondRDD))"
   ]
  }
 ],
 "metadata": {
  "kernelspec": {
   "display_name": "Python 3 (ipykernel)",
   "language": "python",
   "name": "python3"
  },
  "language_info": {
   "codemirror_mode": {
    "name": "ipython",
    "version": 3
   },
   "file_extension": ".py",
   "mimetype": "text/x-python",
   "name": "python",
   "nbconvert_exporter": "python",
   "pygments_lexer": "ipython3",
   "version": "3.9.5"
  }
 },
 "nbformat": 4,
 "nbformat_minor": 5
}
