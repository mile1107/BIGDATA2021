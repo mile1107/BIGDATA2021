{
 "cells": [
  {
   "cell_type": "markdown",
   "id": "2be1ef8f",
   "metadata": {},
   "source": [
    "# Examen Parcial - Recuperación\n",
    "Nombre: Mileydy Ninantay Diaz"
   ]
  },
  {
   "cell_type": "markdown",
   "id": "cbc7fb8c",
   "metadata": {},
   "source": [
    "## Segunda Pregunta"
   ]
  },
  {
   "cell_type": "markdown",
   "id": "0c53e053",
   "metadata": {},
   "source": [
    "Cree una función mediaDivN d n que devuelva la media de los n primeros números que devuelven True a la función del ejercicio anterior. Piense en cómo reducir el costo\n",
    "computacional."
   ]
  },
  {
   "cell_type": "code",
   "execution_count": 20,
   "id": "07046ef0",
   "metadata": {},
   "outputs": [],
   "source": [
    "-- Halla el mínimo común múltiplo de una lista\n",
    "-- Input: lista\n",
    "-- Output: mcm(lista)\n",
    "mcmList :: [Int] -> Int\n",
    "mcmList [] = 0\n",
    "mcmList [m] = m\n",
    "mcmList [m,n] = lcm m n\n",
    "mcmList (m:ms) = lcm m (mcmList ms)"
   ]
  },
  {
   "cell_type": "code",
   "execution_count": 21,
   "id": "d851f9c6",
   "metadata": {},
   "outputs": [],
   "source": [
    "--- Halla la media de los n primeros números divisibles de 1 a d\n",
    "mediaDivN :: Int -> Int -> Double\n",
    "mediaDivN d n = fromIntegral (mcmList [1..d] * (n+1)) / 2"
   ]
  },
  {
   "cell_type": "markdown",
   "id": "834934f0",
   "metadata": {},
   "source": [
    "### Ejemplos "
   ]
  },
  {
   "cell_type": "code",
   "execution_count": 22,
   "id": "938a1c5b",
   "metadata": {},
   "outputs": [
    {
     "data": {
      "text/plain": [
       "5.0"
      ]
     },
     "metadata": {},
     "output_type": "display_data"
    }
   ],
   "source": [
    "mediaDivN 2 4"
   ]
  },
  {
   "cell_type": "code",
   "execution_count": 23,
   "id": "f505b3a7",
   "metadata": {},
   "outputs": [
    {
     "data": {
      "text/plain": [
       "33.0"
      ]
     },
     "metadata": {},
     "output_type": "display_data"
    }
   ],
   "source": [
    "mediaDivN 3 10"
   ]
  },
  {
   "cell_type": "code",
   "execution_count": 24,
   "id": "aa98a36a",
   "metadata": {},
   "outputs": [
    {
     "data": {
      "text/plain": [
       "18.0"
      ]
     },
     "metadata": {},
     "output_type": "display_data"
    }
   ],
   "source": [
    "mediaDivN 3 5"
   ]
  },
  {
   "cell_type": "code",
   "execution_count": 25,
   "id": "e6ed4d8f",
   "metadata": {},
   "outputs": [
    {
     "data": {
      "text/plain": [
       "840.0"
      ]
     },
     "metadata": {},
     "output_type": "display_data"
    }
   ],
   "source": [
    "mediaDivN 7 3"
   ]
  },
  {
   "cell_type": "code",
   "execution_count": 26,
   "id": "0f31dd88",
   "metadata": {},
   "outputs": [
    {
     "data": {
      "text/plain": [
       "6300.0"
      ]
     },
     "metadata": {},
     "output_type": "display_data"
    }
   ],
   "source": [
    "mediaDivN 10 4"
   ]
  }
 ],
 "metadata": {
  "kernelspec": {
   "display_name": "Haskell",
   "language": "haskell",
   "name": "haskell"
  },
  "language_info": {
   "codemirror_mode": "ihaskell",
   "file_extension": ".hs",
   "mimetype": "text/x-haskell",
   "name": "haskell",
   "pygments_lexer": "Haskell",
   "version": "8.10.7"
  }
 },
 "nbformat": 4,
 "nbformat_minor": 5
}
